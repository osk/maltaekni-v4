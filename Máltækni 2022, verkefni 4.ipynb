{
 "cells": [
  {
   "cell_type": "markdown",
   "metadata": {},
   "source": [
    "# Máltækni 2022, verkefni 4\n",
    "\n",
    "B hluti leystur.\n",
    "\n",
    "## a.\n",
    "\n",
    "Í þessum hluta finnið þið ykkur þjálfaðan markara (part-of-speech-tagger).\n",
    "\n",
    "Höldum áfram með vinum okkar í hrokum og hleypidómum. Færum þau samt öll í lágstafi.\n"
   ]
  },
  {
   "cell_type": "code",
   "execution_count": 1,
   "metadata": {},
   "outputs": [],
   "source": [
    "from collections import Counter\n",
    "import re\n",
    "import spacy\n",
    "\n",
    "nlp = spacy.load(\"en_core_web_sm\")\n",
    "\n",
    "with open(\"./data/pride-and-prejudice.txt\", \"rb\") as input_file:\n",
    "  pp_raw = input_file.read().decode('utf8')\n",
    "  # Fjarlægja _ utanum orð (sjá a. ii.); færa í lágstafi\n",
    "  pp = re.sub(r\"\\_(.*)\\_\", r\"\\1\", pp_raw).lower()"
   ]
  },
  {
   "cell_type": "markdown",
   "metadata": {},
   "source": [
    "### a. i.\n",
    "\n",
    "Markið allan textann."
   ]
  },
  {
   "cell_type": "code",
   "execution_count": 2,
   "metadata": {},
   "outputs": [],
   "source": [
    "doc = nlp(pp)"
   ]
  },
  {
   "cell_type": "markdown",
   "metadata": {},
   "source": [
    "### a. ii.\n",
    "\n",
    "Finnið öll orðin í textanum sem hafa fleiri en eitt mark (t.d. getur sleep bæði verið nafnorð (noun) og sagnorð (verb). Skrifið fall sem skilar þeim öllum."
   ]
  },
  {
   "cell_type": "code",
   "execution_count": 3,
   "metadata": {},
   "outputs": [],
   "source": [
    "def find_more_than_one_mark(marks):\n",
    "  \"\"\"\n",
    "  Find word lemmas with more than one mark, returns as list of dict, e.g.:\n",
    "  \"\"\"\n",
    "  found = []\n",
    "  for token in marks:\n",
    "    seen = next((item for item in found if item[\"word\"] == token.lemma_), None)\n",
    "    if seen:\n",
    "      if not token.pos_ in seen[\"tags\"]:\n",
    "        seen[\"tags\"].append(token.pos_)\n",
    "    else:\n",
    "      found.append({ \"word\": token.lemma_, \"tags\": [token.pos_]})\n",
    "  return [item for item in found if len(item[\"tags\"]) > 1]"
   ]
  },
  {
   "cell_type": "markdown",
   "metadata": {},
   "source": [
    "Í `pos` fáum við „The simple [UPOS](https://universaldependencies.org/u/pos/) part-of-speech tag“. Viljum ekki fá það sem er flokkað í „Other“:\n",
    "\n",
    "* `PUNCT` punctuation.\n",
    "* `SYM` symbol. A symbol is a word-like entity that differs from ordinary words by form, function, or both.\n",
    "* `X` other. The tag X is used for words that for some reason cannot be assigned a real part-of-speech category.\n",
    "\n",
    "Aukalega sá ég að `_` var að koma oft fyrir, þá vegna þess að það var notað til að tákna skáletrun, t.d. `_Her_`, eða hvað?. Fjarlægjum með regex í inntaki. En sjáum svo að það kemur ennþá? Harðkóðum fjarlægingu á því! Af hverju gerist þetta? Hver er rétta leiðin til að díla?\n",
    "Síðan fara `.` að koma fyrir seinna í greiningu..."
   ]
  },
  {
   "cell_type": "code",
   "execution_count": 4,
   "metadata": {},
   "outputs": [],
   "source": [
    "def clean_doc(doc, pos_skip_list = [], skip_lemmas = [], skip_stops = True):\n",
    "  \"\"\"\n",
    "  \"Clean\" input doc by removing tags, stopwords and specific lemmas.\n",
    "  \"\"\"\n",
    "  return [token for token in doc if not (token.pos_ in pos_skip_list or (skip_stops and token.is_stop) or token.lemma_ in skip_lemmas)]\n",
    "\n",
    "skipped_pos = ['PUNCT', 'SYM', 'X', 'SPACE']\n",
    "skipped_lemmas = ['_', '.']\n",
    "clean = clean_doc(doc, skipped_pos, skipped_lemmas)"
   ]
  },
  {
   "cell_type": "code",
   "execution_count": 5,
   "metadata": {},
   "outputs": [],
   "source": [
    "more_than_one_mark = find_more_than_one_mark(clean)"
   ]
  },
  {
   "cell_type": "code",
   "execution_count": 22,
   "metadata": {},
   "outputs": [
    {
     "data": {
      "text/plain": [
       "[{'word': 'pride', 'tags': ['NOUN', 'PROPN', 'VERB']},\n",
       " {'word': 'prejudice', 'tags': ['NOUN', 'VERB']},\n",
       " {'word': 'jane', 'tags': ['NOUN', 'PROPN', 'ADJ', 'VERB']},\n",
       " {'word': 'single', 'tags': ['ADJ', 'VERB']},\n",
       " {'word': 'good', 'tags': ['ADJ', 'ADV', 'NOUN', 'PROPN']},\n",
       " {'word': 'want', 'tags': ['NOUN', 'VERB']},\n",
       " {'word': 'little', 'tags': ['ADJ', 'ADV', 'NOUN']},\n",
       " {'word': 'view', 'tags': ['NOUN', 'VERB']},\n",
       " {'word': 'mind', 'tags': ['NOUN', 'VERB']},\n",
       " {'word': 'dear', 'tags': ['ADJ', 'NOUN', 'PROPN', 'VERB']}]"
      ]
     },
     "execution_count": 22,
     "metadata": {},
     "output_type": "execute_result"
    }
   ],
   "source": [
    "more_than_one_mark[:10]"
   ]
  },
  {
   "cell_type": "markdown",
   "metadata": {},
   "source": [
    "### a. iii.\n",
    "\n",
    "Skrifið fall sem skilar því orði sem hefur flest mismunandi mörk, ásamt öllum mörkunum sem tilheyra því. Dæmi: (minni, [nhen, lkenvm, feveþ])."
   ]
  },
  {
   "cell_type": "code",
   "execution_count": 7,
   "metadata": {},
   "outputs": [],
   "source": [
    "def words_with_most_marks(marks):\n",
    "  longest = 0\n",
    "  longest_words = []\n",
    "  for mark in marks:\n",
    "    current_length = len(mark[\"tags\"])\n",
    "    if current_length == longest:\n",
    "      longest_words.append(mark)\n",
    "    \n",
    "    if current_length > longest:\n",
    "      longest = current_length\n",
    "      longest_words = [mark]\n",
    "\n",
    "  return longest_words"
   ]
  },
  {
   "cell_type": "code",
   "execution_count": 8,
   "metadata": {},
   "outputs": [
    {
     "data": {
      "text/plain": [
       "[{'word': 'half', 'tags': ['ADV', 'DET', 'ADJ', 'NOUN', 'PRON', 'NUM']}]"
      ]
     },
     "execution_count": 8,
     "metadata": {},
     "output_type": "execute_result"
    }
   ],
   "source": [
    "words_with_most_marks(more_than_one_mark)[:100]"
   ]
  },
  {
   "cell_type": "markdown",
   "metadata": {},
   "source": [
    "### a. iv.\n",
    "\n",
    "Skilið 10 algengustu pörunum á forminu orð/mark og tíðni þeirra (t.d. (hundur, nafnorð, 300) úr textanum."
   ]
  },
  {
   "cell_type": "code",
   "execution_count": 9,
   "metadata": {},
   "outputs": [
    {
     "data": {
      "text/plain": [
       "[{'pair': ('mr', 'PROPN'), 'count': 785},\n",
       " {'pair': ('elizabeth', 'PROPN'), 'count': 621},\n",
       " {'pair': ('say', 'VERB'), 'count': 451},\n",
       " {'pair': ('know', 'VERB'), 'count': 388},\n",
       " {'pair': ('darcy', 'PROPN'), 'count': 369},\n",
       " {'pair': ('mrs', 'PROPN'), 'count': 344},\n",
       " {'pair': ('think', 'VERB'), 'count': 333},\n",
       " {'pair': ('sister', 'NOUN'), 'count': 294},\n",
       " {'pair': ('bingley', 'PROPN'), 'count': 278},\n",
       " {'pair': ('bennet', 'PROPN'), 'count': 256}]"
      ]
     },
     "execution_count": 9,
     "metadata": {},
     "output_type": "execute_result"
    }
   ],
   "source": [
    "pair_counter = Counter([tuple((token.lemma_, token.pos_)) for token in clean])\n",
    "[{ 'pair': element, 'count': count } for element, count in pair_counter.most_common()][:10]"
   ]
  },
  {
   "cell_type": "markdown",
   "metadata": {},
   "source": [
    "### a. v.\n",
    "\n",
    "Skrifið fall sem skilar öllum þrístæðum (trigrams) af mörkum í textanum, alveg óháð því hvaða orð fylgja þeim, og raðar þeim eftir því hversu oft þær birtast. Formið á að vera [mark1, mark2, mark3]."
   ]
  },
  {
   "cell_type": "code",
   "execution_count": 10,
   "metadata": {},
   "outputs": [],
   "source": [
    "def ordered_ngram_tags(doc, n):\n",
    "  just_tags = [item.pos_ for item in doc]\n",
    "  ngrams = []\n",
    "\n",
    "  for index in range(len(just_tags)):\n",
    "    if index + n <= len(just_tags):\n",
    "      ngrams.append(just_tags[index : index + n])\n",
    "\n",
    "  countable = [tuple(item) for item in ngrams]\n",
    "  counter = Counter(countable)\n",
    "\n",
    "  return counter.most_common()"
   ]
  },
  {
   "cell_type": "code",
   "execution_count": 11,
   "metadata": {},
   "outputs": [
    {
     "data": {
      "text/plain": [
       "[(('NOUN', 'VERB', 'NOUN'), 2656),\n",
       " (('NOUN', 'NOUN', 'NOUN'), 2394),\n",
       " (('NOUN', 'NOUN', 'VERB'), 2299),\n",
       " (('VERB', 'NOUN', 'NOUN'), 2250),\n",
       " (('VERB', 'NOUN', 'VERB'), 1938),\n",
       " (('NOUN', 'ADJ', 'NOUN'), 1498),\n",
       " (('NOUN', 'VERB', 'VERB'), 1443),\n",
       " (('VERB', 'VERB', 'NOUN'), 1430),\n",
       " (('ADJ', 'NOUN', 'NOUN'), 1353),\n",
       " (('VERB', 'ADJ', 'NOUN'), 1319)]"
      ]
     },
     "execution_count": 11,
     "metadata": {},
     "output_type": "execute_result"
    }
   ],
   "source": [
    "top_10_tags = ordered_ngram_tags(clean, 3)[:10]\n",
    "\n",
    "top_10_tags"
   ]
  },
  {
   "cell_type": "markdown",
   "metadata": {},
   "source": [
    "### a. v. bónus\n",
    "\n",
    "Finnið allar orðarunurnar úr textanum sem fylgja þeirri runu. Ef algengasta markaþrístæðan er t.d. [determiner, noun, verb] skilið þið öllum þrístæðunum í textanum sem fylgja því formi, t.a.m. [[a, man, says], [the, woman sees], [an, ape, walks]]"
   ]
  },
  {
   "cell_type": "code",
   "execution_count": 12,
   "metadata": {},
   "outputs": [],
   "source": [
    "def find_word_sequence_by_tag_sequence(doc, tag_sequence):\n",
    "  found = []\n",
    "\n",
    "  \"\"\"\n",
    "  track the candidates on the form\n",
    "  (words: [word_1, word_2, ... word_n], index: n-1)\n",
    "  \"\"\"\n",
    "  candidates = []\n",
    "  next_candidates = []\n",
    "\n",
    "  for tag in doc:\n",
    "    current_tag = tag.pos_\n",
    "    current_word = tag.lemma_\n",
    "\n",
    "    # advance any advanceable candiates\n",
    "    for candidate in candidates:\n",
    "      if current_tag == tag_sequence[candidate[\"index\"]]:\n",
    "        candidate[\"words\"].append(current_word)\n",
    "        candidate[\"index\"] = candidate[\"index\"] + 1\n",
    "\n",
    "        # is it complete?\n",
    "        if len(candidate[\"words\"]) == len(tag_sequence):\n",
    "          found.append(candidate[\"words\"])\n",
    "        else:\n",
    "          next_candidates.append(candidate)\n",
    "      else:\n",
    "        pass\n",
    "    \n",
    "    # new candidate?\n",
    "    if current_tag == current_tag:\n",
    "      next_candidates.append({ \"words\": [current_word], \"index\": 0 })\n",
    "\n",
    "    candidates = next_candidates\n",
    "    next_candidates = []\n",
    "  return found\n"
   ]
  },
  {
   "cell_type": "code",
   "execution_count": 13,
   "metadata": {},
   "outputs": [
    {
     "data": {
      "text/plain": [
       "[['view', 'man', 'enter'],\n",
       " ['neighbourhood', 'truth', 'fix'],\n",
       " ['fix', 'mind', 'surround'],\n",
       " ['surround', 'family', 'consider'],\n",
       " ['lady', 'day', 'hear'],\n",
       " ['netherfield', 'park', 'let'],\n",
       " ['bennet', 'answer', 'want'],\n",
       " ['tell', 'objection', 'hear'],\n",
       " ['invitation', 'dear', 'know'],\n",
       " ['say', 'netherfield', 'take']]"
      ]
     },
     "execution_count": 13,
     "metadata": {},
     "output_type": "execute_result"
    }
   ],
   "source": [
    "find_word_sequence_by_tag_sequence(clean, top_10_tags[0][0])[:10]"
   ]
  },
  {
   "cell_type": "markdown",
   "metadata": {},
   "source": [
    "Áhugavert! Hvað ef við lengjum rununa?"
   ]
  },
  {
   "cell_type": "code",
   "execution_count": 14,
   "metadata": {},
   "outputs": [
    {
     "data": {
      "text/plain": [
       "[(('VERB',\n",
       "   'ADJ',\n",
       "   'NOUN',\n",
       "   'VERB',\n",
       "   'NOUN',\n",
       "   'NOUN',\n",
       "   'NOUN',\n",
       "   'NOUN',\n",
       "   'NOUN',\n",
       "   'NOUN',\n",
       "   'NOUN',\n",
       "   'NOUN'),\n",
       "  4)]"
      ]
     },
     "execution_count": 14,
     "metadata": {},
     "output_type": "execute_result"
    }
   ],
   "source": [
    "ordered_ngram_tags(clean, 12)[:1]"
   ]
  },
  {
   "cell_type": "code",
   "execution_count": 15,
   "metadata": {},
   "outputs": [
    {
     "data": {
      "text/plain": [
       "[['feel',\n",
       "  'persuade',\n",
       "  'real',\n",
       "  'confidence',\n",
       "  'subsist',\n",
       "  'disappointment',\n",
       "  'charlotte',\n",
       "  'turn',\n",
       "  'fonder',\n",
       "  'regard',\n",
       "  'sister',\n",
       "  'rectitude']]"
      ]
     },
     "execution_count": 15,
     "metadata": {},
     "output_type": "execute_result"
    }
   ],
   "source": [
    "find_word_sequence_by_tag_sequence(clean, ordered_ngram_tags(clean, 12)[0][0])[:1]"
   ]
  },
  {
   "cell_type": "markdown",
   "metadata": {},
   "source": [
    "Ekki mikið úr þessu að fá, eða hvað? Betra að halda sig við minna N?"
   ]
  },
  {
   "cell_type": "markdown",
   "metadata": {},
   "source": [
    "### a. vi.\n",
    "\n",
    "Reynið að rugla markarann. Látið hann marka setningar sem þið teljið að gætu ruglað hann. Finnið a.m.k. þrjú dæmi um villur sem hann gerir og útskýrið hvað það er sem gæti hafa ruglað hann."
   ]
  },
  {
   "cell_type": "markdown",
   "metadata": {},
   "source": [
    "Þetta reynir á málfræði kunnáttu mína! Nýti mér listann að ofan fyrir orð sem hafa margar myndir, einnig nýtast [Universal POS tags](https://universaldependencies.org/u/pos/) og [Word Type](https://wordtype.org/) vel."
   ]
  },
  {
   "cell_type": "code",
   "execution_count": 16,
   "metadata": {},
   "outputs": [
    {
     "data": {
      "text/plain": [
       "[('Dear', 'PROPN'), ('john', 'PROPN'), ('letter', 'NOUN'), ('.', 'PUNCT')]"
      ]
     },
     "execution_count": 16,
     "metadata": {},
     "output_type": "execute_result"
    }
   ],
   "source": [
    "[(token.lemma_, token.pos_) for token in nlp(\"Dear john letter.\")]"
   ]
  },
  {
   "cell_type": "markdown",
   "metadata": {},
   "source": [
    "Hér ætti `dear` að vera `ADJ`, ekki `PROPN`, `john` er réttilega `PROPN` en `letter` ætti að vera `NOUN`.\n",
    "Þar sem þetta er frasi sem þarfnast lærdóms er þetta ekki markað rétt. Ástæða fyrir villu er að túlka þetta í heildina sem nafn?\n",
    "\n",
    "Smá svindl því ef við stækkum setningu í að innihalda meira samhengi er þetta flokkað rétt 🙈."
   ]
  },
  {
   "cell_type": "code",
   "execution_count": 17,
   "metadata": {},
   "outputs": [
    {
     "data": {
      "text/plain": [
       "[('a', 'DET'),\n",
       " ('dear', 'ADJ'),\n",
       " ('john', 'PROPN'),\n",
       " ('letter', 'NOUN'),\n",
       " ('.', 'PUNCT')]"
      ]
     },
     "execution_count": 17,
     "metadata": {},
     "output_type": "execute_result"
    }
   ],
   "source": [
    "[(token.lemma_, token.pos_) for token in nlp(\"A dear john letter.\")]"
   ]
  },
  {
   "cell_type": "code",
   "execution_count": 18,
   "metadata": {},
   "outputs": [
    {
     "data": {
      "text/plain": [
       "[('Man', 'PROPN'),\n",
       " (',', 'PUNCT'),\n",
       " ('what', 'PRON'),\n",
       " ('a', 'DET'),\n",
       " ('day', 'NOUN'),\n",
       " ('this', 'PRON'),\n",
       " ('have', 'AUX'),\n",
       " ('be', 'AUX'),\n",
       " ('!', 'PUNCT')]"
      ]
     },
     "execution_count": 18,
     "metadata": {},
     "output_type": "execute_result"
    }
   ],
   "source": [
    "[(token.lemma_, token.pos_) for token in nlp(\"Man, what a day this has been!\")]"
   ]
  },
  {
   "cell_type": "markdown",
   "metadata": {},
   "source": [
    "`man` ranglega flokkað sem `PROPN` en ætti að vera `INTJ`—interjection—þar sem það er notað sem upphrópun!"
   ]
  },
  {
   "cell_type": "code",
   "execution_count": 19,
   "metadata": {},
   "outputs": [
    {
     "data": {
      "text/plain": [
       "[('the', 'DET'),\n",
       " ('man', 'NOUN'),\n",
       " ('eat', 'VERB'),\n",
       " (',', 'PUNCT'),\n",
       " ('then', 'ADV'),\n",
       " ('shoot', 'NOUN'),\n",
       " ('and', 'CCONJ'),\n",
       " ('leave', 'NOUN'),\n",
       " ('.', 'PUNCT')]"
      ]
     },
     "execution_count": 19,
     "metadata": {},
     "output_type": "execute_result"
    }
   ],
   "source": [
    "[(token.lemma_, token.pos_) for token in nlp(\"The man eats, then shoots and leaves.\")]"
   ]
  },
  {
   "cell_type": "markdown",
   "metadata": {},
   "source": [
    "Stolið frá bókinni „Eats, Shoots & Leaves“ þar sem við viljum endilega koma því fram að maðurinn borði, skjóti og fari síðan. `shoots` og `leaves` ættu að vera `VERB`, ekki `NOUN`."
   ]
  },
  {
   "cell_type": "markdown",
   "metadata": {},
   "source": [
    "## b.\n",
    "\n",
    "Í þessum hluta finnið þið ykkur þjálfaðan þáttara (constituency parser)."
   ]
  },
  {
   "cell_type": "markdown",
   "metadata": {},
   "source": [
    "### b. i.\n",
    "\n",
    "Þáttið allan textann."
   ]
  },
  {
   "cell_type": "markdown",
   "metadata": {},
   "source": [
    "Notum [Berkeley Neural Parser, `benepar`](https://spacy.io/universe/project/self-attentive-parser)."
   ]
  },
  {
   "cell_type": "code",
   "execution_count": 20,
   "metadata": {},
   "outputs": [
    {
     "data": {
      "text/plain": [
       "<benepar.integrations.spacy_plugin.BeneparComponent at 0x13fb30a60>"
      ]
     },
     "execution_count": 20,
     "metadata": {},
     "output_type": "execute_result"
    }
   ],
   "source": [
    "import benepar\n",
    "\n",
    "# Sækjum gögn fyrir þáttarann, keyrum einu sinni\n",
    "# benepar.download('benepar_en3')\n",
    "\n",
    "# Notum stærra módel fyrir ensku\n",
    "nlpx = spacy.load('en_core_web_md')\n",
    "\n",
    "nlpx.add_pipe('benepar', config={'model': 'benepar_en3'})"
   ]
  },
  {
   "cell_type": "markdown",
   "metadata": {},
   "source": [
    "Hér virkaði ekki að keyra neinn kóða gegnum Visual Studio Code, en keyrði í jupyter?\n",
    "\n",
    "`TypeError: Couldn't build proto file into descriptor pool: duplicate file name (sentencepiece_model.proto)`\n",
    "\n",
    "Aukalega verður allt mun hægara hér.. takmörkum okkur við 20þ orð."
   ]
  },
  {
   "cell_type": "code",
   "execution_count": 114,
   "metadata": {},
   "outputs": [],
   "source": [
    "pp_limited = \" \".join(pp.split(\"\\n\")[:20000])\n",
    "cp_parsed = nlpx(pp_limited)"
   ]
  },
  {
   "cell_type": "markdown",
   "metadata": {},
   "source": [
    "### b. ii.\n",
    "\n",
    "Skrifið fall sem skilar öllum nafnliðum (noun phrases) í textanum og raðar þeim eftir því hversu oft þeir birtast."
   ]
  },
  {
   "cell_type": "code",
   "execution_count": 64,
   "metadata": {},
   "outputs": [],
   "source": [
    "def ordered_noun_phrases(noun_phrases):\n",
    "    counter = Counter([phrase.text for phrase in noun_phrases])\n",
    "    return [{ \"noun_phrase\": element, 'count': count } for element, count in counter.most_common()]"
   ]
  },
  {
   "cell_type": "code",
   "execution_count": 115,
   "metadata": {
    "scrolled": true
   },
   "outputs": [
    {
     "data": {
      "text/plain": [
       "[{'noun_phrase': 'i', 'count': 2062},\n",
       " {'noun_phrase': 'she', 'count': 1705},\n",
       " {'noun_phrase': 'it', 'count': 1531},\n",
       " {'noun_phrase': 'you', 'count': 1356},\n",
       " {'noun_phrase': 'he', 'count': 1332},\n",
       " {'noun_phrase': 'her', 'count': 766},\n",
       " {'noun_phrase': 'him', 'count': 761},\n",
       " {'noun_phrase': 'they', 'count': 601},\n",
       " {'noun_phrase': 'elizabeth', 'count': 529},\n",
       " {'noun_phrase': 'which', 'count': 522},\n",
       " {'noun_phrase': 'me', 'count': 445},\n",
       " {'noun_phrase': 'them', 'count': 435},\n",
       " {'noun_phrase': 'what', 'count': 378},\n",
       " {'noun_phrase': 'who', 'count': 285},\n",
       " {'noun_phrase': 'that', 'count': 276},\n",
       " {'noun_phrase': 'we', 'count': 252},\n",
       " {'noun_phrase': 'mr. darcy', 'count': 229},\n",
       " {'noun_phrase': 'jane', 'count': 222},\n",
       " {'noun_phrase': 'herself', 'count': 209},\n",
       " {'noun_phrase': 'nothing', 'count': 171}]"
      ]
     },
     "execution_count": 115,
     "metadata": {},
     "output_type": "execute_result"
    }
   ],
   "source": [
    "ordered_noun_phrases(cp_parsed.noun_chunks)[:20]"
   ]
  },
  {
   "cell_type": "markdown",
   "metadata": {},
   "source": [
    "### b. iii.\n",
    "\n",
    "Endurtakið ii. en sækið nú sagnliði (verb phrases)."
   ]
  },
  {
   "cell_type": "markdown",
   "metadata": {},
   "source": [
    "Hér er ég aðeins farinn að taka flýtleiðir, næsta kemur að miklu leiti frá [stackoverflow svari](https://stackoverflow.com/questions/47856247/extract-verb-phrases-using-spacy)."
   ]
  },
  {
   "cell_type": "code",
   "execution_count": 89,
   "metadata": {},
   "outputs": [
    {
     "data": {
      "text/plain": [
       "[{'verb_phrase': 'said', 'count': 32},\n",
       " {'verb_phrase': 'had', 'count': 25},\n",
       " {'verb_phrase': 'know', 'count': 24},\n",
       " {'verb_phrase': 'have', 'count': 20},\n",
       " {'verb_phrase': 'miss', 'count': 15},\n",
       " {'verb_phrase': 'think', 'count': 14},\n",
       " {'verb_phrase': 'see', 'count': 13},\n",
       " {'verb_phrase': 'do', 'count': 12},\n",
       " {'verb_phrase': 'dance', 'count': 11},\n",
       " {'verb_phrase': 'say', 'count': 10}]"
      ]
     },
     "execution_count": 89,
     "metadata": {},
     "output_type": "execute_result"
    }
   ],
   "source": [
    "from spacy.matcher import Matcher\n",
    "from spacy.util import filter_spans\n",
    "\n",
    "def parse_verb_phrases(doc):\n",
    "    # Bad function, relies on global state\n",
    "    patterns = [{'POS': 'VERB', 'OP': '?'},\n",
    "               {'POS': 'ADV', 'OP': '*'},\n",
    "               {'POS': 'AUX', 'OP': '*'},\n",
    "               {'POS': 'VERB', 'OP': '+'}]\n",
    "\n",
    "    matcher = Matcher(nlpx.vocab)\n",
    "    matcher.add(\"Verb phrase\", [pattern])\n",
    "\n",
    "    matches = matcher(doc)\n",
    "    spans = [doc[start:end] for _, start, end in matches]\n",
    "    \n",
    "    return spans\n",
    "\n",
    "def ordered_verb_phrases(verb_phrases):\n",
    "    counter = Counter([phrase.text for phrase in verb_phrases])\n",
    "    return [{ \"verb_phrase\": element, 'count': count } for element, count in counter.most_common()]\n",
    "\n",
    "ordered_verb_phrases(parse_verb_phrases(cp_parsed))[:10]"
   ]
  },
  {
   "cell_type": "markdown",
   "metadata": {},
   "source": [
    "### b. iv.\n",
    "\n",
    "Reynið að rugla þáttarann. Látið hann þátta setningar sem þið teljið að gætu ruglað hann. Finnið a.m.k. þrjú dæmi um villur sem hann gerir og útskýrið hvað það er sem gæti hafa ruglað hann."
   ]
  },
  {
   "cell_type": "code",
   "execution_count": 97,
   "metadata": {},
   "outputs": [
    {
     "data": {
      "text/plain": [
       "[]"
      ]
     },
     "execution_count": 97,
     "metadata": {},
     "output_type": "execute_result"
    }
   ],
   "source": [
    "for chunk in nlpx(\"Table that for later\").noun_chunks:\n",
    "    print(chunk)\n",
    "parse_verb_phrases(nlpx(\"Table that for later\"))"
   ]
  },
  {
   "cell_type": "markdown",
   "metadata": {},
   "source": [
    "Hér ætti table að vera flokkað sem sögn en er flokkað sem hvorugt."
   ]
  },
  {
   "cell_type": "code",
   "execution_count": 113,
   "metadata": {},
   "outputs": [
    {
     "name": "stdout",
     "output_type": "stream",
     "text": [
      "me\n",
      "you\n"
     ]
    },
    {
     "data": {
      "text/plain": [
       "[Let]"
      ]
     },
     "execution_count": 113,
     "metadata": {},
     "output_type": "execute_result"
    }
   ],
   "source": [
    "for chunk in nlpx(\"Let me Google that for you\").noun_chunks:\n",
    "    print(chunk)\n",
    "parse_verb_phrases(nlpx(\"Let me Google that for you\"))"
   ]
  },
  {
   "cell_type": "markdown",
   "metadata": {},
   "source": [
    "Svindl. Hér ætti Google að vera sögn (og er flokkuð sem slík ef við setjum G í lágstaf)"
   ]
  },
  {
   "cell_type": "markdown",
   "metadata": {},
   "source": [
    "Að finna þessi dæmi var erfiðasti parturinn við verkefnið."
   ]
  },
  {
   "cell_type": "code",
   "execution_count": null,
   "metadata": {},
   "outputs": [],
   "source": []
  }
 ],
 "metadata": {
  "kernelspec": {
   "display_name": "Python 3 (ipykernel)",
   "language": "python",
   "name": "python3"
  },
  "language_info": {
   "codemirror_mode": {
    "name": "ipython",
    "version": 3
   },
   "file_extension": ".py",
   "mimetype": "text/x-python",
   "name": "python",
   "nbconvert_exporter": "python",
   "pygments_lexer": "ipython3",
   "version": "3.10.6"
  },
  "vscode": {
   "interpreter": {
    "hash": "ae2e14ec575573b8be072e4f3a87b89fe042cbcbb9ac3447dde126ec4009b8f0"
   }
  }
 },
 "nbformat": 4,
 "nbformat_minor": 2
}
